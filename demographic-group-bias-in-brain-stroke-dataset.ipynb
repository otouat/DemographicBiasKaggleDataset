{
 "cells": [
  {
   "cell_type": "markdown",
   "id": "39b4327b",
   "metadata": {
    "papermill": {
     "duration": 0.008614,
     "end_time": "2022-08-10T11:38:44.538968",
     "exception": false,
     "start_time": "2022-08-10T11:38:44.530354",
     "status": "completed"
    },
    "tags": []
   },
   "source": [
    "## Bias in Brain Stroke Dataset\n",
    "\n",
    "This notebook will explore the statistical bias behind this healthcare dataset. The idea of understanding the bias in such dataset would help to improve the fairness of the trained model on critical decision-making tasks ( i.e \"Do I want my model to unfairly predict brain stroke on female compared to male\"). We will explore many ways to describe bias in such datasets."
   ]
  },
  {
   "cell_type": "code",
   "execution_count": 1,
   "id": "bb3fa533",
   "metadata": {
    "_cell_guid": "b1076dfc-b9ad-4769-8c92-a6c4dae69d19",
    "_uuid": "8f2839f25d086af736a60e9eeb907d3b93b6e0e5",
    "execution": {
     "iopub.execute_input": "2022-08-10T11:38:44.557114Z",
     "iopub.status.busy": "2022-08-10T11:38:44.556554Z",
     "iopub.status.idle": "2022-08-10T11:38:45.890217Z",
     "shell.execute_reply": "2022-08-10T11:38:45.888893Z"
    },
    "papermill": {
     "duration": 1.346331,
     "end_time": "2022-08-10T11:38:45.893591",
     "exception": false,
     "start_time": "2022-08-10T11:38:44.547260",
     "status": "completed"
    },
    "tags": []
   },
   "outputs": [
    {
     "name": "stdout",
     "output_type": "stream",
     "text": [
      "/kaggle/input/brain-stroke-dataset/brain_stroke.csv\n"
     ]
    }
   ],
   "source": [
    "# This Python 3 environment comes with many helpful analytics libraries installed\n",
    "# It is defined by the kaggle/python Docker image: https://github.com/kaggle/docker-python\n",
    "# For example, here's several helpful packages to load\n",
    "\n",
    "import numpy as np # linear algebra\n",
    "import pandas as pd # data processing, CSV file I/O (e.g. pd.read_csv)\n",
    "import matplotlib.pyplot as plt\n",
    "import seaborn as sns\n",
    "\n",
    "# Input data files are available in the read-only \"../input/\" directory\n",
    "# For example, running this (by clicking run or pressing Shift+Enter) will list all files under the input directory\n",
    "\n",
    "import os\n",
    "for dirname, _, filenames in os.walk('/kaggle/input'):\n",
    "    for filename in filenames:\n",
    "        print(os.path.join(dirname, filename))\n",
    "\n",
    "# You can write up to 20GB to the current directory (/kaggle/working/) that gets preserved as output when you create a version using \"Save & Run All\" \n",
    "# You can also write temporary files to /kaggle/temp/, but they won't be saved outside of the current session"
   ]
  },
  {
   "cell_type": "markdown",
   "id": "72bcf82e",
   "metadata": {
    "papermill": {
     "duration": 0.006825,
     "end_time": "2022-08-10T11:38:45.907896",
     "exception": false,
     "start_time": "2022-08-10T11:38:45.901071",
     "status": "completed"
    },
    "tags": []
   },
   "source": [
    "## Importing the Dataset and quickly describe its content"
   ]
  },
  {
   "cell_type": "code",
   "execution_count": 2,
   "id": "ff70eb1b",
   "metadata": {
    "execution": {
     "iopub.execute_input": "2022-08-10T11:38:45.924297Z",
     "iopub.status.busy": "2022-08-10T11:38:45.923818Z",
     "iopub.status.idle": "2022-08-10T11:38:45.958087Z",
     "shell.execute_reply": "2022-08-10T11:38:45.956424Z"
    },
    "papermill": {
     "duration": 0.045843,
     "end_time": "2022-08-10T11:38:45.960775",
     "exception": false,
     "start_time": "2022-08-10T11:38:45.914932",
     "status": "completed"
    },
    "tags": []
   },
   "outputs": [],
   "source": [
    "df=pd.read_csv(\"/kaggle/input/brain-stroke-dataset/brain_stroke.csv\")"
   ]
  },
  {
   "cell_type": "code",
   "execution_count": 3,
   "id": "5c9f04cf",
   "metadata": {
    "execution": {
     "iopub.execute_input": "2022-08-10T11:38:45.977568Z",
     "iopub.status.busy": "2022-08-10T11:38:45.976861Z",
     "iopub.status.idle": "2022-08-10T11:38:46.004600Z",
     "shell.execute_reply": "2022-08-10T11:38:46.003034Z"
    },
    "papermill": {
     "duration": 0.03926,
     "end_time": "2022-08-10T11:38:46.007446",
     "exception": false,
     "start_time": "2022-08-10T11:38:45.968186",
     "status": "completed"
    },
    "tags": []
   },
   "outputs": [
    {
     "data": {
      "text/html": [
       "<div>\n",
       "<style scoped>\n",
       "    .dataframe tbody tr th:only-of-type {\n",
       "        vertical-align: middle;\n",
       "    }\n",
       "\n",
       "    .dataframe tbody tr th {\n",
       "        vertical-align: top;\n",
       "    }\n",
       "\n",
       "    .dataframe thead th {\n",
       "        text-align: right;\n",
       "    }\n",
       "</style>\n",
       "<table border=\"1\" class=\"dataframe\">\n",
       "  <thead>\n",
       "    <tr style=\"text-align: right;\">\n",
       "      <th></th>\n",
       "      <th>gender</th>\n",
       "      <th>age</th>\n",
       "      <th>hypertension</th>\n",
       "      <th>heart_disease</th>\n",
       "      <th>ever_married</th>\n",
       "      <th>work_type</th>\n",
       "      <th>Residence_type</th>\n",
       "      <th>avg_glucose_level</th>\n",
       "      <th>bmi</th>\n",
       "      <th>smoking_status</th>\n",
       "      <th>stroke</th>\n",
       "    </tr>\n",
       "  </thead>\n",
       "  <tbody>\n",
       "    <tr>\n",
       "      <th>0</th>\n",
       "      <td>Male</td>\n",
       "      <td>67.0</td>\n",
       "      <td>0</td>\n",
       "      <td>1</td>\n",
       "      <td>Yes</td>\n",
       "      <td>Private</td>\n",
       "      <td>Urban</td>\n",
       "      <td>228.69</td>\n",
       "      <td>36.6</td>\n",
       "      <td>formerly smoked</td>\n",
       "      <td>1</td>\n",
       "    </tr>\n",
       "    <tr>\n",
       "      <th>1</th>\n",
       "      <td>Male</td>\n",
       "      <td>80.0</td>\n",
       "      <td>0</td>\n",
       "      <td>1</td>\n",
       "      <td>Yes</td>\n",
       "      <td>Private</td>\n",
       "      <td>Rural</td>\n",
       "      <td>105.92</td>\n",
       "      <td>32.5</td>\n",
       "      <td>never smoked</td>\n",
       "      <td>1</td>\n",
       "    </tr>\n",
       "    <tr>\n",
       "      <th>2</th>\n",
       "      <td>Female</td>\n",
       "      <td>49.0</td>\n",
       "      <td>0</td>\n",
       "      <td>0</td>\n",
       "      <td>Yes</td>\n",
       "      <td>Private</td>\n",
       "      <td>Urban</td>\n",
       "      <td>171.23</td>\n",
       "      <td>34.4</td>\n",
       "      <td>smokes</td>\n",
       "      <td>1</td>\n",
       "    </tr>\n",
       "    <tr>\n",
       "      <th>3</th>\n",
       "      <td>Female</td>\n",
       "      <td>79.0</td>\n",
       "      <td>1</td>\n",
       "      <td>0</td>\n",
       "      <td>Yes</td>\n",
       "      <td>Self-employed</td>\n",
       "      <td>Rural</td>\n",
       "      <td>174.12</td>\n",
       "      <td>24.0</td>\n",
       "      <td>never smoked</td>\n",
       "      <td>1</td>\n",
       "    </tr>\n",
       "    <tr>\n",
       "      <th>4</th>\n",
       "      <td>Male</td>\n",
       "      <td>81.0</td>\n",
       "      <td>0</td>\n",
       "      <td>0</td>\n",
       "      <td>Yes</td>\n",
       "      <td>Private</td>\n",
       "      <td>Urban</td>\n",
       "      <td>186.21</td>\n",
       "      <td>29.0</td>\n",
       "      <td>formerly smoked</td>\n",
       "      <td>1</td>\n",
       "    </tr>\n",
       "  </tbody>\n",
       "</table>\n",
       "</div>"
      ],
      "text/plain": [
       "   gender   age  hypertension  heart_disease ever_married      work_type  \\\n",
       "0    Male  67.0             0              1          Yes        Private   \n",
       "1    Male  80.0             0              1          Yes        Private   \n",
       "2  Female  49.0             0              0          Yes        Private   \n",
       "3  Female  79.0             1              0          Yes  Self-employed   \n",
       "4    Male  81.0             0              0          Yes        Private   \n",
       "\n",
       "  Residence_type  avg_glucose_level   bmi   smoking_status  stroke  \n",
       "0          Urban             228.69  36.6  formerly smoked       1  \n",
       "1          Rural             105.92  32.5     never smoked       1  \n",
       "2          Urban             171.23  34.4           smokes       1  \n",
       "3          Rural             174.12  24.0     never smoked       1  \n",
       "4          Urban             186.21  29.0  formerly smoked       1  "
      ]
     },
     "execution_count": 3,
     "metadata": {},
     "output_type": "execute_result"
    }
   ],
   "source": [
    "df.head()"
   ]
  },
  {
   "cell_type": "code",
   "execution_count": 4,
   "id": "6fd42ffe",
   "metadata": {
    "execution": {
     "iopub.execute_input": "2022-08-10T11:38:46.025231Z",
     "iopub.status.busy": "2022-08-10T11:38:46.024820Z",
     "iopub.status.idle": "2022-08-10T11:38:46.070092Z",
     "shell.execute_reply": "2022-08-10T11:38:46.068790Z"
    },
    "papermill": {
     "duration": 0.057548,
     "end_time": "2022-08-10T11:38:46.072713",
     "exception": false,
     "start_time": "2022-08-10T11:38:46.015165",
     "status": "completed"
    },
    "tags": []
   },
   "outputs": [
    {
     "data": {
      "text/html": [
       "<div>\n",
       "<style scoped>\n",
       "    .dataframe tbody tr th:only-of-type {\n",
       "        vertical-align: middle;\n",
       "    }\n",
       "\n",
       "    .dataframe tbody tr th {\n",
       "        vertical-align: top;\n",
       "    }\n",
       "\n",
       "    .dataframe thead th {\n",
       "        text-align: right;\n",
       "    }\n",
       "</style>\n",
       "<table border=\"1\" class=\"dataframe\">\n",
       "  <thead>\n",
       "    <tr style=\"text-align: right;\">\n",
       "      <th></th>\n",
       "      <th>age</th>\n",
       "      <th>hypertension</th>\n",
       "      <th>heart_disease</th>\n",
       "      <th>avg_glucose_level</th>\n",
       "      <th>bmi</th>\n",
       "      <th>stroke</th>\n",
       "    </tr>\n",
       "  </thead>\n",
       "  <tbody>\n",
       "    <tr>\n",
       "      <th>count</th>\n",
       "      <td>4981.000000</td>\n",
       "      <td>4981.000000</td>\n",
       "      <td>4981.000000</td>\n",
       "      <td>4981.000000</td>\n",
       "      <td>4981.000000</td>\n",
       "      <td>4981.000000</td>\n",
       "    </tr>\n",
       "    <tr>\n",
       "      <th>mean</th>\n",
       "      <td>43.419859</td>\n",
       "      <td>0.096165</td>\n",
       "      <td>0.055210</td>\n",
       "      <td>105.943562</td>\n",
       "      <td>28.498173</td>\n",
       "      <td>0.049789</td>\n",
       "    </tr>\n",
       "    <tr>\n",
       "      <th>std</th>\n",
       "      <td>22.662755</td>\n",
       "      <td>0.294848</td>\n",
       "      <td>0.228412</td>\n",
       "      <td>45.075373</td>\n",
       "      <td>6.790464</td>\n",
       "      <td>0.217531</td>\n",
       "    </tr>\n",
       "    <tr>\n",
       "      <th>min</th>\n",
       "      <td>0.080000</td>\n",
       "      <td>0.000000</td>\n",
       "      <td>0.000000</td>\n",
       "      <td>55.120000</td>\n",
       "      <td>14.000000</td>\n",
       "      <td>0.000000</td>\n",
       "    </tr>\n",
       "    <tr>\n",
       "      <th>25%</th>\n",
       "      <td>25.000000</td>\n",
       "      <td>0.000000</td>\n",
       "      <td>0.000000</td>\n",
       "      <td>77.230000</td>\n",
       "      <td>23.700000</td>\n",
       "      <td>0.000000</td>\n",
       "    </tr>\n",
       "    <tr>\n",
       "      <th>50%</th>\n",
       "      <td>45.000000</td>\n",
       "      <td>0.000000</td>\n",
       "      <td>0.000000</td>\n",
       "      <td>91.850000</td>\n",
       "      <td>28.100000</td>\n",
       "      <td>0.000000</td>\n",
       "    </tr>\n",
       "    <tr>\n",
       "      <th>75%</th>\n",
       "      <td>61.000000</td>\n",
       "      <td>0.000000</td>\n",
       "      <td>0.000000</td>\n",
       "      <td>113.860000</td>\n",
       "      <td>32.600000</td>\n",
       "      <td>0.000000</td>\n",
       "    </tr>\n",
       "    <tr>\n",
       "      <th>max</th>\n",
       "      <td>82.000000</td>\n",
       "      <td>1.000000</td>\n",
       "      <td>1.000000</td>\n",
       "      <td>271.740000</td>\n",
       "      <td>48.900000</td>\n",
       "      <td>1.000000</td>\n",
       "    </tr>\n",
       "  </tbody>\n",
       "</table>\n",
       "</div>"
      ],
      "text/plain": [
       "               age  hypertension  heart_disease  avg_glucose_level  \\\n",
       "count  4981.000000   4981.000000    4981.000000        4981.000000   \n",
       "mean     43.419859      0.096165       0.055210         105.943562   \n",
       "std      22.662755      0.294848       0.228412          45.075373   \n",
       "min       0.080000      0.000000       0.000000          55.120000   \n",
       "25%      25.000000      0.000000       0.000000          77.230000   \n",
       "50%      45.000000      0.000000       0.000000          91.850000   \n",
       "75%      61.000000      0.000000       0.000000         113.860000   \n",
       "max      82.000000      1.000000       1.000000         271.740000   \n",
       "\n",
       "               bmi       stroke  \n",
       "count  4981.000000  4981.000000  \n",
       "mean     28.498173     0.049789  \n",
       "std       6.790464     0.217531  \n",
       "min      14.000000     0.000000  \n",
       "25%      23.700000     0.000000  \n",
       "50%      28.100000     0.000000  \n",
       "75%      32.600000     0.000000  \n",
       "max      48.900000     1.000000  "
      ]
     },
     "execution_count": 4,
     "metadata": {},
     "output_type": "execute_result"
    }
   ],
   "source": [
    "df.describe()"
   ]
  },
  {
   "cell_type": "code",
   "execution_count": 5,
   "id": "ef993c98",
   "metadata": {
    "execution": {
     "iopub.execute_input": "2022-08-10T11:38:46.089875Z",
     "iopub.status.busy": "2022-08-10T11:38:46.089474Z",
     "iopub.status.idle": "2022-08-10T11:38:46.096775Z",
     "shell.execute_reply": "2022-08-10T11:38:46.095683Z"
    },
    "papermill": {
     "duration": 0.018928,
     "end_time": "2022-08-10T11:38:46.099396",
     "exception": false,
     "start_time": "2022-08-10T11:38:46.080468",
     "status": "completed"
    },
    "tags": []
   },
   "outputs": [
    {
     "data": {
      "text/plain": [
       "(4981, 11)"
      ]
     },
     "execution_count": 5,
     "metadata": {},
     "output_type": "execute_result"
    }
   ],
   "source": [
    "df.shape"
   ]
  },
  {
   "cell_type": "code",
   "execution_count": 6,
   "id": "43a804c3",
   "metadata": {
    "execution": {
     "iopub.execute_input": "2022-08-10T11:38:46.117793Z",
     "iopub.status.busy": "2022-08-10T11:38:46.117286Z",
     "iopub.status.idle": "2022-08-10T11:38:46.135315Z",
     "shell.execute_reply": "2022-08-10T11:38:46.134410Z"
    },
    "papermill": {
     "duration": 0.031465,
     "end_time": "2022-08-10T11:38:46.138916",
     "exception": false,
     "start_time": "2022-08-10T11:38:46.107451",
     "status": "completed"
    },
    "tags": []
   },
   "outputs": [
    {
     "name": "stdout",
     "output_type": "stream",
     "text": [
      "<class 'pandas.core.frame.DataFrame'>\n",
      "RangeIndex: 4981 entries, 0 to 4980\n",
      "Data columns (total 11 columns):\n",
      " #   Column             Non-Null Count  Dtype  \n",
      "---  ------             --------------  -----  \n",
      " 0   gender             4981 non-null   object \n",
      " 1   age                4981 non-null   float64\n",
      " 2   hypertension       4981 non-null   int64  \n",
      " 3   heart_disease      4981 non-null   int64  \n",
      " 4   ever_married       4981 non-null   object \n",
      " 5   work_type          4981 non-null   object \n",
      " 6   Residence_type     4981 non-null   object \n",
      " 7   avg_glucose_level  4981 non-null   float64\n",
      " 8   bmi                4981 non-null   float64\n",
      " 9   smoking_status     4981 non-null   object \n",
      " 10  stroke             4981 non-null   int64  \n",
      "dtypes: float64(3), int64(3), object(5)\n",
      "memory usage: 428.2+ KB\n"
     ]
    }
   ],
   "source": [
    "df.info()"
   ]
  },
  {
   "cell_type": "code",
   "execution_count": 7,
   "id": "5c473f51",
   "metadata": {
    "execution": {
     "iopub.execute_input": "2022-08-10T11:38:46.157582Z",
     "iopub.status.busy": "2022-08-10T11:38:46.156756Z",
     "iopub.status.idle": "2022-08-10T11:38:46.787994Z",
     "shell.execute_reply": "2022-08-10T11:38:46.786701Z"
    },
    "papermill": {
     "duration": 0.642999,
     "end_time": "2022-08-10T11:38:46.790556",
     "exception": false,
     "start_time": "2022-08-10T11:38:46.147557",
     "status": "completed"
    },
    "tags": []
   },
   "outputs": [
    {
     "data": {
      "text/plain": [
       "<seaborn.axisgrid.FacetGrid at 0x7f9893038b90>"
      ]
     },
     "execution_count": 7,
     "metadata": {},
     "output_type": "execute_result"
    },
    {
     "data": {
      "text/plain": [
       "<Figure size 1080x432 with 0 Axes>"
      ]
     },
     "metadata": {},
     "output_type": "display_data"
    },
    {
     "data": {
      "image/png": "[encoded data removed]",
      "text/plain": [
       "<Figure size 360x360 with 1 Axes>"
      ]
     },
     "metadata": {
      "needs_background": "light"
     },
     "output_type": "display_data"
    },
    {
     "data": {
      "image/png": "[encoded data removed]",
      "text/plain": [
       "<Figure size 360x360 with 1 Axes>"
      ]
     },
     "metadata": {
      "needs_background": "light"
     },
     "output_type": "display_data"
    }
   ],
   "source": [
    "plt.figure(figsize = (15,6))\n",
    "sns.displot(df, x=\"gender\")\n",
    "sns.displot(df, x=\"age\")"
   ]
  },
  {
   "cell_type": "markdown",
   "id": "f28b4d46",
   "metadata": {
    "papermill": {
     "duration": 0.007991,
     "end_time": "2022-08-10T11:38:46.807857",
     "exception": false,
     "start_time": "2022-08-10T11:38:46.799866",
     "status": "completed"
    },
    "tags": []
   },
   "source": [
    "## Describe bias on data\n",
    "\n",
    "There are several ways to measure bias in datasets. The most popular ones are Statistical Parity (also called risk difference) and Disparate Impact (also called risk ratio)\n",
    "Those metrics compare the difference (or ratio) of individual from a specific group , having a positive attribute (in this case it would be stroke=1). The condition on getting no bias between two demographic groups with those metric are the following: Statistical Parity must be equal to 0 (i.e no risk difference), and Disparate Impact equal to 1 (perfect risk ratio)\n",
    "\n",
    "To use this metric we need to define 2 groups from what we call the sensitive attribute. The sensitive attribute is what we assume to be the point of discrimination with our datasets or model, usually there would be social discrimination, therefore the sensitive attribute would be either gender, age, or skin color.\n",
    "\n",
    "On this dataset for this study we choose arbitrarly 3 sensitive attributes : age, gender and work-type. Lets see what happen for each groups !"
   ]
  },
  {
   "cell_type": "markdown",
   "id": "89d3aee4",
   "metadata": {
    "papermill": {
     "duration": 0.008119,
     "end_time": "2022-08-10T11:38:46.824302",
     "exception": false,
     "start_time": "2022-08-10T11:38:46.816183",
     "status": "completed"
    },
    "tags": []
   },
   "source": [
    "## Bias toward Age\n",
    "\n",
    "To work on such feature, we need to binarize it ! For that we can take the median value (43 years old), and create a new column containing a binary variable whether the individual is older or younger that 43 years old."
   ]
  },
  {
   "cell_type": "code",
   "execution_count": 8,
   "id": "25199b58",
   "metadata": {
    "execution": {
     "iopub.execute_input": "2022-08-10T11:38:46.843258Z",
     "iopub.status.busy": "2022-08-10T11:38:46.842849Z",
     "iopub.status.idle": "2022-08-10T11:38:46.906555Z",
     "shell.execute_reply": "2022-08-10T11:38:46.905167Z"
    },
    "papermill": {
     "duration": 0.076796,
     "end_time": "2022-08-10T11:38:46.909794",
     "exception": false,
     "start_time": "2022-08-10T11:38:46.832998",
     "status": "completed"
    },
    "tags": []
   },
   "outputs": [],
   "source": [
    "def binarize_age(row):\n",
    "    if row['age']>43 : # old dude\n",
    "        val = 0\n",
    "    else:\n",
    "        val = 1\n",
    "    return val\n",
    "\n",
    "df['bin_age'] = df.apply(binarize_age, axis=1)"
   ]
  },
  {
   "cell_type": "code",
   "execution_count": 9,
   "id": "4156bf89",
   "metadata": {
    "execution": {
     "iopub.execute_input": "2022-08-10T11:38:46.929439Z",
     "iopub.status.busy": "2022-08-10T11:38:46.929067Z",
     "iopub.status.idle": "2022-08-10T11:38:46.954559Z",
     "shell.execute_reply": "2022-08-10T11:38:46.953403Z"
    },
    "papermill": {
     "duration": 0.038281,
     "end_time": "2022-08-10T11:38:46.957295",
     "exception": false,
     "start_time": "2022-08-10T11:38:46.919014",
     "status": "completed"
    },
    "tags": []
   },
   "outputs": [
    {
     "data": {
      "text/html": [
       "<div>\n",
       "<style scoped>\n",
       "    .dataframe tbody tr th:only-of-type {\n",
       "        vertical-align: middle;\n",
       "    }\n",
       "\n",
       "    .dataframe tbody tr th {\n",
       "        vertical-align: top;\n",
       "    }\n",
       "\n",
       "    .dataframe thead th {\n",
       "        text-align: right;\n",
       "    }\n",
       "</style>\n",
       "<table border=\"1\" class=\"dataframe\">\n",
       "  <thead>\n",
       "    <tr style=\"text-align: right;\">\n",
       "      <th></th>\n",
       "      <th>gender</th>\n",
       "      <th>age</th>\n",
       "      <th>hypertension</th>\n",
       "      <th>heart_disease</th>\n",
       "      <th>ever_married</th>\n",
       "      <th>work_type</th>\n",
       "      <th>Residence_type</th>\n",
       "      <th>avg_glucose_level</th>\n",
       "      <th>bmi</th>\n",
       "      <th>smoking_status</th>\n",
       "      <th>stroke</th>\n",
       "      <th>bin_age</th>\n",
       "    </tr>\n",
       "  </thead>\n",
       "  <tbody>\n",
       "    <tr>\n",
       "      <th>0</th>\n",
       "      <td>Male</td>\n",
       "      <td>67.0</td>\n",
       "      <td>0</td>\n",
       "      <td>1</td>\n",
       "      <td>Yes</td>\n",
       "      <td>Private</td>\n",
       "      <td>Urban</td>\n",
       "      <td>228.69</td>\n",
       "      <td>36.6</td>\n",
       "      <td>formerly smoked</td>\n",
       "      <td>1</td>\n",
       "      <td>0</td>\n",
       "    </tr>\n",
       "    <tr>\n",
       "      <th>1</th>\n",
       "      <td>Male</td>\n",
       "      <td>80.0</td>\n",
       "      <td>0</td>\n",
       "      <td>1</td>\n",
       "      <td>Yes</td>\n",
       "      <td>Private</td>\n",
       "      <td>Rural</td>\n",
       "      <td>105.92</td>\n",
       "      <td>32.5</td>\n",
       "      <td>never smoked</td>\n",
       "      <td>1</td>\n",
       "      <td>0</td>\n",
       "    </tr>\n",
       "    <tr>\n",
       "      <th>2</th>\n",
       "      <td>Female</td>\n",
       "      <td>49.0</td>\n",
       "      <td>0</td>\n",
       "      <td>0</td>\n",
       "      <td>Yes</td>\n",
       "      <td>Private</td>\n",
       "      <td>Urban</td>\n",
       "      <td>171.23</td>\n",
       "      <td>34.4</td>\n",
       "      <td>smokes</td>\n",
       "      <td>1</td>\n",
       "      <td>0</td>\n",
       "    </tr>\n",
       "    <tr>\n",
       "      <th>3</th>\n",
       "      <td>Female</td>\n",
       "      <td>79.0</td>\n",
       "      <td>1</td>\n",
       "      <td>0</td>\n",
       "      <td>Yes</td>\n",
       "      <td>Self-employed</td>\n",
       "      <td>Rural</td>\n",
       "      <td>174.12</td>\n",
       "      <td>24.0</td>\n",
       "      <td>never smoked</td>\n",
       "      <td>1</td>\n",
       "      <td>0</td>\n",
       "    </tr>\n",
       "    <tr>\n",
       "      <th>4</th>\n",
       "      <td>Male</td>\n",
       "      <td>81.0</td>\n",
       "      <td>0</td>\n",
       "      <td>0</td>\n",
       "      <td>Yes</td>\n",
       "      <td>Private</td>\n",
       "      <td>Urban</td>\n",
       "      <td>186.21</td>\n",
       "      <td>29.0</td>\n",
       "      <td>formerly smoked</td>\n",
       "      <td>1</td>\n",
       "      <td>0</td>\n",
       "    </tr>\n",
       "    <tr>\n",
       "      <th>...</th>\n",
       "      <td>...</td>\n",
       "      <td>...</td>\n",
       "      <td>...</td>\n",
       "      <td>...</td>\n",
       "      <td>...</td>\n",
       "      <td>...</td>\n",
       "      <td>...</td>\n",
       "      <td>...</td>\n",
       "      <td>...</td>\n",
       "      <td>...</td>\n",
       "      <td>...</td>\n",
       "      <td>...</td>\n",
       "    </tr>\n",
       "    <tr>\n",
       "      <th>4976</th>\n",
       "      <td>Male</td>\n",
       "      <td>41.0</td>\n",
       "      <td>0</td>\n",
       "      <td>0</td>\n",
       "      <td>No</td>\n",
       "      <td>Private</td>\n",
       "      <td>Rural</td>\n",
       "      <td>70.15</td>\n",
       "      <td>29.8</td>\n",
       "      <td>formerly smoked</td>\n",
       "      <td>0</td>\n",
       "      <td>1</td>\n",
       "    </tr>\n",
       "    <tr>\n",
       "      <th>4977</th>\n",
       "      <td>Male</td>\n",
       "      <td>40.0</td>\n",
       "      <td>0</td>\n",
       "      <td>0</td>\n",
       "      <td>Yes</td>\n",
       "      <td>Private</td>\n",
       "      <td>Urban</td>\n",
       "      <td>191.15</td>\n",
       "      <td>31.1</td>\n",
       "      <td>smokes</td>\n",
       "      <td>0</td>\n",
       "      <td>1</td>\n",
       "    </tr>\n",
       "    <tr>\n",
       "      <th>4978</th>\n",
       "      <td>Female</td>\n",
       "      <td>45.0</td>\n",
       "      <td>1</td>\n",
       "      <td>0</td>\n",
       "      <td>Yes</td>\n",
       "      <td>Govt_job</td>\n",
       "      <td>Rural</td>\n",
       "      <td>95.02</td>\n",
       "      <td>31.8</td>\n",
       "      <td>smokes</td>\n",
       "      <td>0</td>\n",
       "      <td>0</td>\n",
       "    </tr>\n",
       "    <tr>\n",
       "      <th>4979</th>\n",
       "      <td>Male</td>\n",
       "      <td>40.0</td>\n",
       "      <td>0</td>\n",
       "      <td>0</td>\n",
       "      <td>Yes</td>\n",
       "      <td>Private</td>\n",
       "      <td>Rural</td>\n",
       "      <td>83.94</td>\n",
       "      <td>30.0</td>\n",
       "      <td>smokes</td>\n",
       "      <td>0</td>\n",
       "      <td>1</td>\n",
       "    </tr>\n",
       "    <tr>\n",
       "      <th>4980</th>\n",
       "      <td>Female</td>\n",
       "      <td>80.0</td>\n",
       "      <td>1</td>\n",
       "      <td>0</td>\n",
       "      <td>Yes</td>\n",
       "      <td>Private</td>\n",
       "      <td>Urban</td>\n",
       "      <td>83.75</td>\n",
       "      <td>29.1</td>\n",
       "      <td>never smoked</td>\n",
       "      <td>0</td>\n",
       "      <td>0</td>\n",
       "    </tr>\n",
       "  </tbody>\n",
       "</table>\n",
       "<p>4981 rows × 12 columns</p>\n",
       "</div>"
      ],
      "text/plain": [
       "      gender   age  hypertension  heart_disease ever_married      work_type  \\\n",
       "0       Male  67.0             0              1          Yes        Private   \n",
       "1       Male  80.0             0              1          Yes        Private   \n",
       "2     Female  49.0             0              0          Yes        Private   \n",
       "3     Female  79.0             1              0          Yes  Self-employed   \n",
       "4       Male  81.0             0              0          Yes        Private   \n",
       "...      ...   ...           ...            ...          ...            ...   \n",
       "4976    Male  41.0             0              0           No        Private   \n",
       "4977    Male  40.0             0              0          Yes        Private   \n",
       "4978  Female  45.0             1              0          Yes       Govt_job   \n",
       "4979    Male  40.0             0              0          Yes        Private   \n",
       "4980  Female  80.0             1              0          Yes        Private   \n",
       "\n",
       "     Residence_type  avg_glucose_level   bmi   smoking_status  stroke  bin_age  \n",
       "0             Urban             228.69  36.6  formerly smoked       1        0  \n",
       "1             Rural             105.92  32.5     never smoked       1        0  \n",
       "2             Urban             171.23  34.4           smokes       1        0  \n",
       "3             Rural             174.12  24.0     never smoked       1        0  \n",
       "4             Urban             186.21  29.0  formerly smoked       1        0  \n",
       "...             ...                ...   ...              ...     ...      ...  \n",
       "4976          Rural              70.15  29.8  formerly smoked       0        1  \n",
       "4977          Urban             191.15  31.1           smokes       0        1  \n",
       "4978          Rural              95.02  31.8           smokes       0        0  \n",
       "4979          Rural              83.94  30.0           smokes       0        1  \n",
       "4980          Urban              83.75  29.1     never smoked       0        0  \n",
       "\n",
       "[4981 rows x 12 columns]"
      ]
     },
     "execution_count": 9,
     "metadata": {},
     "output_type": "execute_result"
    }
   ],
   "source": [
    "df"
   ]
  },
  {
   "cell_type": "code",
   "execution_count": 10,
   "id": "c43f3ff2",
   "metadata": {
    "execution": {
     "iopub.execute_input": "2022-08-10T11:38:46.978788Z",
     "iopub.status.busy": "2022-08-10T11:38:46.978289Z",
     "iopub.status.idle": "2022-08-10T11:38:46.992711Z",
     "shell.execute_reply": "2022-08-10T11:38:46.991562Z"
    },
    "papermill": {
     "duration": 0.028249,
     "end_time": "2022-08-10T11:38:46.995069",
     "exception": false,
     "start_time": "2022-08-10T11:38:46.966820",
     "status": "completed"
    },
    "tags": []
   },
   "outputs": [
    {
     "name": "stdout",
     "output_type": "stream",
     "text": [
      "fav_binage0 = 0.09157368218545595\n",
      "fav_binage1 = 0.0041981528127623844\n"
     ]
    }
   ],
   "source": [
    "fav_binage0 = (df[(df['bin_age']==0) & (df.stroke==1)].shape[0])/df[(df['bin_age']==0)].shape[0]\n",
    "print(\"fav_binage0 =\", fav_binage0)\n",
    "fav_binage1 = (df[(df['bin_age']==1) & (df.stroke==1)].shape[0])/df[(df['bin_age']==1)].shape[0]\n",
    "print(\"fav_binage1 =\", fav_binage1)"
   ]
  },
  {
   "cell_type": "code",
   "execution_count": 11,
   "id": "13934431",
   "metadata": {
    "execution": {
     "iopub.execute_input": "2022-08-10T11:38:47.014621Z",
     "iopub.status.busy": "2022-08-10T11:38:47.014245Z",
     "iopub.status.idle": "2022-08-10T11:38:47.020786Z",
     "shell.execute_reply": "2022-08-10T11:38:47.019431Z"
    },
    "papermill": {
     "duration": 0.020644,
     "end_time": "2022-08-10T11:38:47.024464",
     "exception": false,
     "start_time": "2022-08-10T11:38:47.003820",
     "status": "completed"
    },
    "tags": []
   },
   "outputs": [
    {
     "name": "stdout",
     "output_type": "stream",
     "text": [
      "SPD = 0.08737552937269356\n",
      "DI = 0.04584453428726654\n"
     ]
    }
   ],
   "source": [
    "# Statistical Demographic Parity\n",
    "spd = abs(fav_binage0-fav_binage1)\n",
    "print(\"SPD =\", spd)\n",
    "# Disparate Impact\n",
    "di = fav_binage1/fav_binage0\n",
    "print(\"DI =\", di)"
   ]
  },
  {
   "cell_type": "markdown",
   "id": "5e8f5b80",
   "metadata": {
    "papermill": {
     "duration": 0.008832,
     "end_time": "2022-08-10T11:38:47.043348",
     "exception": false,
     "start_time": "2022-08-10T11:38:47.034516",
     "status": "completed"
    },
    "tags": []
   },
   "source": [
    "Getting such results on age, where the SPD is pretty high (> 5% diff) and especially with the DI that low (4%), we see that the \"young\" age group is pretty unpriviledged using both definition, in this example unprivileged is pretty counter intuitive, because if refer to the fact that \"young\" individual are way less prone to get the positive \"stroke\" feature, which is consistant with the assumption that older people are way more exposed to brain stroke. It shows the limit in using such metrics to explore bias in datasets, this is why new metrics where developped to asses bias in other condition ( see \"Equality of Opportunity in Supervised Learning\" https://arxiv.org/pdf/1610.02413.pdf )\n",
    "\n",
    "Lets see what happen with gender, a demographic partition where we could assume less correlation between the latter and brain stroke risk.\n"
   ]
  },
  {
   "cell_type": "markdown",
   "id": "e162c350",
   "metadata": {
    "papermill": {
     "duration": 0.008863,
     "end_time": "2022-08-10T11:38:47.061305",
     "exception": false,
     "start_time": "2022-08-10T11:38:47.052442",
     "status": "completed"
    },
    "tags": []
   },
   "source": [
    "## Bias toward Gender\n",
    "\n",
    "This attribute is already binary so no need to do further preprocess"
   ]
  },
  {
   "cell_type": "code",
   "execution_count": 12,
   "id": "7d5edc6c",
   "metadata": {
    "execution": {
     "iopub.execute_input": "2022-08-10T11:38:47.081136Z",
     "iopub.status.busy": "2022-08-10T11:38:47.080732Z",
     "iopub.status.idle": "2022-08-10T11:38:47.566736Z",
     "shell.execute_reply": "2022-08-10T11:38:47.565003Z"
    },
    "papermill": {
     "duration": 0.499677,
     "end_time": "2022-08-10T11:38:47.570113",
     "exception": false,
     "start_time": "2022-08-10T11:38:47.070436",
     "status": "completed"
    },
    "tags": []
   },
   "outputs": [
    {
     "data": {
      "image/png": "[encoded data removed]",
      "text/plain": [
       "<Figure size 720x360 with 2 Axes>"
      ]
     },
     "metadata": {
      "needs_background": "light"
     },
     "output_type": "display_data"
    }
   ],
   "source": [
    "ax = sns.displot(df, x=\"stroke\", col=\"gender\")"
   ]
  },
  {
   "cell_type": "code",
   "execution_count": 13,
   "id": "5e790efa",
   "metadata": {
    "execution": {
     "iopub.execute_input": "2022-08-10T11:38:47.591248Z",
     "iopub.status.busy": "2022-08-10T11:38:47.590863Z",
     "iopub.status.idle": "2022-08-10T11:38:47.605167Z",
     "shell.execute_reply": "2022-08-10T11:38:47.603733Z"
    },
    "papermill": {
     "duration": 0.027301,
     "end_time": "2022-08-10T11:38:47.607610",
     "exception": false,
     "start_time": "2022-08-10T11:38:47.580309",
     "status": "completed"
    },
    "tags": []
   },
   "outputs": [
    {
     "name": "stdout",
     "output_type": "stream",
     "text": [
      "fav_binage_male = 0.052073288331726135\n",
      "fav_binage_female = 0.048159614723082216\n"
     ]
    }
   ],
   "source": [
    "fav_male = (df[(df['gender']=='Male') & (df.stroke==1)].shape[0])/df[(df['gender']=='Male')].shape[0]\n",
    "print(\"fav_binage_male =\", fav_male)\n",
    "fav_female = (df[(df['gender']=='Female') & (df.stroke==1)].shape[0])/df[(df['gender']=='Female')].shape[0]\n",
    "print(\"fav_binage_female =\", fav_female)"
   ]
  },
  {
   "cell_type": "code",
   "execution_count": 14,
   "id": "5dbb822b",
   "metadata": {
    "execution": {
     "iopub.execute_input": "2022-08-10T11:38:47.628917Z",
     "iopub.status.busy": "2022-08-10T11:38:47.628289Z",
     "iopub.status.idle": "2022-08-10T11:38:47.634364Z",
     "shell.execute_reply": "2022-08-10T11:38:47.632985Z"
    },
    "papermill": {
     "duration": 0.019855,
     "end_time": "2022-08-10T11:38:47.637220",
     "exception": false,
     "start_time": "2022-08-10T11:38:47.617365",
     "status": "completed"
    },
    "tags": []
   },
   "outputs": [
    {
     "name": "stdout",
     "output_type": "stream",
     "text": [
      "SPD = 0.0039136736086439194\n",
      "DI = 0.9248429716265973\n"
     ]
    }
   ],
   "source": [
    "# Statistical Demographic Parity\n",
    "spd = abs(fav_male-fav_female)\n",
    "print(\"SPD =\", spd)\n",
    "# Disparate Impact\n",
    "di = fav_female/fav_male\n",
    "print(\"DI =\", di)"
   ]
  },
  {
   "cell_type": "markdown",
   "id": "98488d37",
   "metadata": {
    "papermill": {
     "duration": 0.00921,
     "end_time": "2022-08-10T11:38:47.656177",
     "exception": false,
     "start_time": "2022-08-10T11:38:47.646967",
     "status": "completed"
    },
    "tags": []
   },
   "source": [
    "Those values pretty much confirms our assumption that this dataset gives close to no bias on stroke detection in relation to individual gender, getting an SPD value close to 0, and a DI value close to 1. Even though we can see clearly that this dataset contains more case of stroke with female compared to cases with male individuals.\n",
    "Finally lets see if there is bias according to the work type. "
   ]
  },
  {
   "cell_type": "markdown",
   "id": "ae32e013",
   "metadata": {
    "papermill": {
     "duration": 0.009521,
     "end_time": "2022-08-10T11:38:47.676453",
     "exception": false,
     "start_time": "2022-08-10T11:38:47.666932",
     "status": "completed"
    },
    "tags": []
   },
   "source": [
    "## Bias towards work group\n",
    "\n",
    "Lets see all work group categories and the decide on how to cut this into two groups"
   ]
  },
  {
   "cell_type": "code",
   "execution_count": 15,
   "id": "dd7837be",
   "metadata": {
    "execution": {
     "iopub.execute_input": "2022-08-10T11:38:47.699121Z",
     "iopub.status.busy": "2022-08-10T11:38:47.697978Z",
     "iopub.status.idle": "2022-08-10T11:38:47.705894Z",
     "shell.execute_reply": "2022-08-10T11:38:47.704924Z"
    },
    "papermill": {
     "duration": 0.021771,
     "end_time": "2022-08-10T11:38:47.708449",
     "exception": false,
     "start_time": "2022-08-10T11:38:47.686678",
     "status": "completed"
    },
    "tags": []
   },
   "outputs": [
    {
     "data": {
      "text/plain": [
       "array(['Private', 'Self-employed', 'Govt_job', 'children'], dtype=object)"
      ]
     },
     "execution_count": 15,
     "metadata": {},
     "output_type": "execute_result"
    }
   ],
   "source": [
    "df.work_type.unique()"
   ]
  },
  {
   "cell_type": "markdown",
   "id": "41494c01",
   "metadata": {
    "papermill": {
     "duration": 0.009438,
     "end_time": "2022-08-10T11:38:47.727795",
     "exception": false,
     "start_time": "2022-08-10T11:38:47.718357",
     "status": "completed"
    },
    "tags": []
   },
   "source": [
    "We distinguishes 4 categories, children and active adult working whether in the Private,Public sector or Self-employed. To not take into account age, we will discard the 'children' group and only focus on active adult. Lets create the following partition : Private sector vs {Public sector + Self-employed}"
   ]
  },
  {
   "cell_type": "code",
   "execution_count": 16,
   "id": "daec39f8",
   "metadata": {
    "execution": {
     "iopub.execute_input": "2022-08-10T11:38:47.750101Z",
     "iopub.status.busy": "2022-08-10T11:38:47.749662Z",
     "iopub.status.idle": "2022-08-10T11:38:47.829238Z",
     "shell.execute_reply": "2022-08-10T11:38:47.828015Z"
    },
    "papermill": {
     "duration": 0.093971,
     "end_time": "2022-08-10T11:38:47.831778",
     "exception": false,
     "start_time": "2022-08-10T11:38:47.737807",
     "status": "completed"
    },
    "tags": []
   },
   "outputs": [],
   "source": [
    "def binarize_worktype(row):\n",
    "    if row['work_type'] in ['Self-employed', 'Govt_job']: # unprivileged ?\n",
    "        val = 0\n",
    "    elif row['work_type'] == 'Private':\n",
    "        val = 1\n",
    "    else: \n",
    "        val = 2\n",
    "    return val\n",
    "\n",
    "df['bin_work'] = df.apply(binarize_worktype, axis=1)"
   ]
  },
  {
   "cell_type": "code",
   "execution_count": 17,
   "id": "34116529",
   "metadata": {
    "execution": {
     "iopub.execute_input": "2022-08-10T11:38:47.853533Z",
     "iopub.status.busy": "2022-08-10T11:38:47.852558Z",
     "iopub.status.idle": "2022-08-10T11:38:47.877275Z",
     "shell.execute_reply": "2022-08-10T11:38:47.876246Z"
    },
    "papermill": {
     "duration": 0.038123,
     "end_time": "2022-08-10T11:38:47.879696",
     "exception": false,
     "start_time": "2022-08-10T11:38:47.841573",
     "status": "completed"
    },
    "tags": []
   },
   "outputs": [
    {
     "data": {
      "text/html": [
       "<div>\n",
       "<style scoped>\n",
       "    .dataframe tbody tr th:only-of-type {\n",
       "        vertical-align: middle;\n",
       "    }\n",
       "\n",
       "    .dataframe tbody tr th {\n",
       "        vertical-align: top;\n",
       "    }\n",
       "\n",
       "    .dataframe thead th {\n",
       "        text-align: right;\n",
       "    }\n",
       "</style>\n",
       "<table border=\"1\" class=\"dataframe\">\n",
       "  <thead>\n",
       "    <tr style=\"text-align: right;\">\n",
       "      <th></th>\n",
       "      <th>gender</th>\n",
       "      <th>age</th>\n",
       "      <th>hypertension</th>\n",
       "      <th>heart_disease</th>\n",
       "      <th>ever_married</th>\n",
       "      <th>work_type</th>\n",
       "      <th>Residence_type</th>\n",
       "      <th>avg_glucose_level</th>\n",
       "      <th>bmi</th>\n",
       "      <th>smoking_status</th>\n",
       "      <th>stroke</th>\n",
       "      <th>bin_age</th>\n",
       "      <th>bin_work</th>\n",
       "    </tr>\n",
       "  </thead>\n",
       "  <tbody>\n",
       "    <tr>\n",
       "      <th>0</th>\n",
       "      <td>Male</td>\n",
       "      <td>67.0</td>\n",
       "      <td>0</td>\n",
       "      <td>1</td>\n",
       "      <td>Yes</td>\n",
       "      <td>Private</td>\n",
       "      <td>Urban</td>\n",
       "      <td>228.69</td>\n",
       "      <td>36.6</td>\n",
       "      <td>formerly smoked</td>\n",
       "      <td>1</td>\n",
       "      <td>0</td>\n",
       "      <td>1</td>\n",
       "    </tr>\n",
       "    <tr>\n",
       "      <th>1</th>\n",
       "      <td>Male</td>\n",
       "      <td>80.0</td>\n",
       "      <td>0</td>\n",
       "      <td>1</td>\n",
       "      <td>Yes</td>\n",
       "      <td>Private</td>\n",
       "      <td>Rural</td>\n",
       "      <td>105.92</td>\n",
       "      <td>32.5</td>\n",
       "      <td>never smoked</td>\n",
       "      <td>1</td>\n",
       "      <td>0</td>\n",
       "      <td>1</td>\n",
       "    </tr>\n",
       "    <tr>\n",
       "      <th>2</th>\n",
       "      <td>Female</td>\n",
       "      <td>49.0</td>\n",
       "      <td>0</td>\n",
       "      <td>0</td>\n",
       "      <td>Yes</td>\n",
       "      <td>Private</td>\n",
       "      <td>Urban</td>\n",
       "      <td>171.23</td>\n",
       "      <td>34.4</td>\n",
       "      <td>smokes</td>\n",
       "      <td>1</td>\n",
       "      <td>0</td>\n",
       "      <td>1</td>\n",
       "    </tr>\n",
       "    <tr>\n",
       "      <th>3</th>\n",
       "      <td>Female</td>\n",
       "      <td>79.0</td>\n",
       "      <td>1</td>\n",
       "      <td>0</td>\n",
       "      <td>Yes</td>\n",
       "      <td>Self-employed</td>\n",
       "      <td>Rural</td>\n",
       "      <td>174.12</td>\n",
       "      <td>24.0</td>\n",
       "      <td>never smoked</td>\n",
       "      <td>1</td>\n",
       "      <td>0</td>\n",
       "      <td>0</td>\n",
       "    </tr>\n",
       "    <tr>\n",
       "      <th>4</th>\n",
       "      <td>Male</td>\n",
       "      <td>81.0</td>\n",
       "      <td>0</td>\n",
       "      <td>0</td>\n",
       "      <td>Yes</td>\n",
       "      <td>Private</td>\n",
       "      <td>Urban</td>\n",
       "      <td>186.21</td>\n",
       "      <td>29.0</td>\n",
       "      <td>formerly smoked</td>\n",
       "      <td>1</td>\n",
       "      <td>0</td>\n",
       "      <td>1</td>\n",
       "    </tr>\n",
       "    <tr>\n",
       "      <th>...</th>\n",
       "      <td>...</td>\n",
       "      <td>...</td>\n",
       "      <td>...</td>\n",
       "      <td>...</td>\n",
       "      <td>...</td>\n",
       "      <td>...</td>\n",
       "      <td>...</td>\n",
       "      <td>...</td>\n",
       "      <td>...</td>\n",
       "      <td>...</td>\n",
       "      <td>...</td>\n",
       "      <td>...</td>\n",
       "      <td>...</td>\n",
       "    </tr>\n",
       "    <tr>\n",
       "      <th>4976</th>\n",
       "      <td>Male</td>\n",
       "      <td>41.0</td>\n",
       "      <td>0</td>\n",
       "      <td>0</td>\n",
       "      <td>No</td>\n",
       "      <td>Private</td>\n",
       "      <td>Rural</td>\n",
       "      <td>70.15</td>\n",
       "      <td>29.8</td>\n",
       "      <td>formerly smoked</td>\n",
       "      <td>0</td>\n",
       "      <td>1</td>\n",
       "      <td>1</td>\n",
       "    </tr>\n",
       "    <tr>\n",
       "      <th>4977</th>\n",
       "      <td>Male</td>\n",
       "      <td>40.0</td>\n",
       "      <td>0</td>\n",
       "      <td>0</td>\n",
       "      <td>Yes</td>\n",
       "      <td>Private</td>\n",
       "      <td>Urban</td>\n",
       "      <td>191.15</td>\n",
       "      <td>31.1</td>\n",
       "      <td>smokes</td>\n",
       "      <td>0</td>\n",
       "      <td>1</td>\n",
       "      <td>1</td>\n",
       "    </tr>\n",
       "    <tr>\n",
       "      <th>4978</th>\n",
       "      <td>Female</td>\n",
       "      <td>45.0</td>\n",
       "      <td>1</td>\n",
       "      <td>0</td>\n",
       "      <td>Yes</td>\n",
       "      <td>Govt_job</td>\n",
       "      <td>Rural</td>\n",
       "      <td>95.02</td>\n",
       "      <td>31.8</td>\n",
       "      <td>smokes</td>\n",
       "      <td>0</td>\n",
       "      <td>0</td>\n",
       "      <td>0</td>\n",
       "    </tr>\n",
       "    <tr>\n",
       "      <th>4979</th>\n",
       "      <td>Male</td>\n",
       "      <td>40.0</td>\n",
       "      <td>0</td>\n",
       "      <td>0</td>\n",
       "      <td>Yes</td>\n",
       "      <td>Private</td>\n",
       "      <td>Rural</td>\n",
       "      <td>83.94</td>\n",
       "      <td>30.0</td>\n",
       "      <td>smokes</td>\n",
       "      <td>0</td>\n",
       "      <td>1</td>\n",
       "      <td>1</td>\n",
       "    </tr>\n",
       "    <tr>\n",
       "      <th>4980</th>\n",
       "      <td>Female</td>\n",
       "      <td>80.0</td>\n",
       "      <td>1</td>\n",
       "      <td>0</td>\n",
       "      <td>Yes</td>\n",
       "      <td>Private</td>\n",
       "      <td>Urban</td>\n",
       "      <td>83.75</td>\n",
       "      <td>29.1</td>\n",
       "      <td>never smoked</td>\n",
       "      <td>0</td>\n",
       "      <td>0</td>\n",
       "      <td>1</td>\n",
       "    </tr>\n",
       "  </tbody>\n",
       "</table>\n",
       "<p>4981 rows × 13 columns</p>\n",
       "</div>"
      ],
      "text/plain": [
       "      gender   age  hypertension  heart_disease ever_married      work_type  \\\n",
       "0       Male  67.0             0              1          Yes        Private   \n",
       "1       Male  80.0             0              1          Yes        Private   \n",
       "2     Female  49.0             0              0          Yes        Private   \n",
       "3     Female  79.0             1              0          Yes  Self-employed   \n",
       "4       Male  81.0             0              0          Yes        Private   \n",
       "...      ...   ...           ...            ...          ...            ...   \n",
       "4976    Male  41.0             0              0           No        Private   \n",
       "4977    Male  40.0             0              0          Yes        Private   \n",
       "4978  Female  45.0             1              0          Yes       Govt_job   \n",
       "4979    Male  40.0             0              0          Yes        Private   \n",
       "4980  Female  80.0             1              0          Yes        Private   \n",
       "\n",
       "     Residence_type  avg_glucose_level   bmi   smoking_status  stroke  \\\n",
       "0             Urban             228.69  36.6  formerly smoked       1   \n",
       "1             Rural             105.92  32.5     never smoked       1   \n",
       "2             Urban             171.23  34.4           smokes       1   \n",
       "3             Rural             174.12  24.0     never smoked       1   \n",
       "4             Urban             186.21  29.0  formerly smoked       1   \n",
       "...             ...                ...   ...              ...     ...   \n",
       "4976          Rural              70.15  29.8  formerly smoked       0   \n",
       "4977          Urban             191.15  31.1           smokes       0   \n",
       "4978          Rural              95.02  31.8           smokes       0   \n",
       "4979          Rural              83.94  30.0           smokes       0   \n",
       "4980          Urban              83.75  29.1     never smoked       0   \n",
       "\n",
       "      bin_age  bin_work  \n",
       "0           0         1  \n",
       "1           0         1  \n",
       "2           0         1  \n",
       "3           0         0  \n",
       "4           0         1  \n",
       "...       ...       ...  \n",
       "4976        1         1  \n",
       "4977        1         1  \n",
       "4978        0         0  \n",
       "4979        1         1  \n",
       "4980        0         1  \n",
       "\n",
       "[4981 rows x 13 columns]"
      ]
     },
     "execution_count": 17,
     "metadata": {},
     "output_type": "execute_result"
    }
   ],
   "source": [
    "df"
   ]
  },
  {
   "cell_type": "code",
   "execution_count": 18,
   "id": "7e2fa4de",
   "metadata": {
    "execution": {
     "iopub.execute_input": "2022-08-10T11:38:47.902475Z",
     "iopub.status.busy": "2022-08-10T11:38:47.901739Z",
     "iopub.status.idle": "2022-08-10T11:38:47.913412Z",
     "shell.execute_reply": "2022-08-10T11:38:47.911868Z"
    },
    "papermill": {
     "duration": 0.026343,
     "end_time": "2022-08-10T11:38:47.916272",
     "exception": false,
     "start_time": "2022-08-10T11:38:47.889929",
     "status": "completed"
    },
    "tags": []
   },
   "outputs": [
    {
     "name": "stdout",
     "output_type": "stream",
     "text": [
      "fav_binwork0 = 0.06767955801104972\n",
      "fav_binwork1 = 0.05174825174825175\n"
     ]
    }
   ],
   "source": [
    "fav_binwork0 = (df[(df['bin_work']==0) & (df.stroke==1)].shape[0])/df[(df['bin_work']==0)].shape[0]\n",
    "print(\"fav_binwork0 =\", fav_binwork0)\n",
    "fav_binwork1 = (df[(df['bin_work']==1) & (df.stroke==1)].shape[0])/df[(df['bin_work']==1)].shape[0]\n",
    "print(\"fav_binwork1 =\", fav_binwork1)"
   ]
  },
  {
   "cell_type": "code",
   "execution_count": 19,
   "id": "58e650a5",
   "metadata": {
    "execution": {
     "iopub.execute_input": "2022-08-10T11:38:47.938776Z",
     "iopub.status.busy": "2022-08-10T11:38:47.938405Z",
     "iopub.status.idle": "2022-08-10T11:38:47.943646Z",
     "shell.execute_reply": "2022-08-10T11:38:47.942807Z"
    },
    "papermill": {
     "duration": 0.019678,
     "end_time": "2022-08-10T11:38:47.946620",
     "exception": false,
     "start_time": "2022-08-10T11:38:47.926942",
     "status": "completed"
    },
    "tags": []
   },
   "outputs": [
    {
     "name": "stdout",
     "output_type": "stream",
     "text": [
      "SPD = 0.01593130626279797\n",
      "DI = 0.764606821749679\n"
     ]
    }
   ],
   "source": [
    "# Statistical Demographic Parity\n",
    "spd = abs(fav_binwork0-fav_binwork1)\n",
    "print(\"SPD =\", spd)\n",
    "# Disparate Impact\n",
    "di = fav_binwork1/fav_binwork0\n",
    "print(\"DI =\", di)"
   ]
  },
  {
   "cell_type": "markdown",
   "id": "1d997bc2",
   "metadata": {
    "papermill": {
     "duration": 0.0097,
     "end_time": "2022-08-10T11:38:47.966281",
     "exception": false,
     "start_time": "2022-08-10T11:38:47.956581",
     "status": "completed"
    },
    "tags": []
   },
   "source": [
    "While the absolute statistical parity difference is pretty low, the disparate impact shows that there could be a bias toward work group where people working in the private sector are less prone to get brain stroke compared to people working in the public sector or being self-employed. There may be a correlation between work type and probability to get stroke. But to verify such statement we would need to do further statistical tests."
   ]
  },
  {
   "cell_type": "markdown",
   "id": "18526f5b",
   "metadata": {
    "papermill": {
     "duration": 0.009933,
     "end_time": "2022-08-10T11:38:47.986276",
     "exception": false,
     "start_time": "2022-08-10T11:38:47.976343",
     "status": "completed"
    },
    "tags": []
   },
   "source": [
    "## Conclusion\n",
    "\n",
    "In this notebook we explored ways to asses demographic group bias in the Brain Stroke dataset, on 3 type of binary partition. This can give some insight on the kind of bias the end model could be exposed to, especially considering the case were getting a perfect classifier also means that the latter perfectly embed the prior dataset biases. \n",
    "Such metrics are also obviously used during model inference to test model bias, which could be the subject of future works."
   ]
  },
  {
   "cell_type": "markdown",
   "id": "e75aaed4",
   "metadata": {
    "papermill": {
     "duration": 0.009682,
     "end_time": "2022-08-10T11:38:48.006044",
     "exception": false,
     "start_time": "2022-08-10T11:38:47.996362",
     "status": "completed"
    },
    "tags": []
   },
   "source": [
    "## Bibliography\n",
    "* Luca Oneto and Silvia Chiappa ,**Fairness in Machine Learning** In Recent Trends in Learning From Data. Studies in Computational Intelligence, vol 896. Springer, Cham, 2020, https://arxiv.org/abs/2012.15816\n",
    "* Dwork, C., Hardt, M., Pitassi, T., Reingold, O., and Zemel, R. **Fairness through awareness**. In Proceedings of the 3rdInnovations in Theoretical Computer Science Conference,pp. 214–226, 2012 https://arxiv.org/abs/1104.3913\n",
    "* Hardt, M., Price, E., and Srebro, N. **Equality of opportunity in supervised learning**. In Neural Information Processing Systems (NIPS), 2016. https://arxiv.org/pdf/1610.02413.pdf"
   ]
  }
 ],
 "metadata": {
  "kernelspec": {
   "display_name": "Python 3",
   "language": "python",
   "name": "python3"
  },
  "language_info": {
   "codemirror_mode": {
    "name": "ipython",
    "version": 3
   },
   "file_extension": ".py",
   "mimetype": "text/x-python",
   "name": "python",
   "nbconvert_exporter": "python",
   "pygments_lexer": "ipython3",
   "version": "3.7.12"
  },
  "papermill": {
   "default_parameters": {},
   "duration": 14.326353,
   "end_time": "2022-08-10T11:38:48.739504",
   "environment_variables": {},
   "exception": null,
   "input_path": "__notebook__.ipynb",
   "output_path": "__notebook__.ipynb",
   "parameters": {},
   "start_time": "2022-08-10T11:38:34.413151",
   "version": "2.3.4"
  }
 },
 "nbformat": 4,
 "nbformat_minor": 5
}
